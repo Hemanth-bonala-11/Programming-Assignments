{
 "cells": [
  {
   "cell_type": "markdown",
   "id": "ef829894",
   "metadata": {},
   "source": [
    "### function to take matrix input "
   ]
  },
  {
   "cell_type": "code",
   "execution_count": 5,
   "id": "d0f6a83d",
   "metadata": {},
   "outputs": [],
   "source": [
    "def matrix_input(rows,cols):\n",
    "    mat=[]\n",
    "    for i in range(rows):\n",
    "        mat2=[]\n",
    "        for j in range(cols):\n",
    "            while(1):\n",
    "                try:\n",
    "                    inp=int(input(f\"Enter {i}th row and {j}th column element: \"))\n",
    "                    break\n",
    "                except Exception as e:\n",
    "                    print(\"Enter valid integer \")\n",
    "            \n",
    "            mat2.append(inp)\n",
    "        mat.append(mat2)\n",
    "        \n",
    "    return mat\n",
    "            "
   ]
  },
  {
   "cell_type": "markdown",
   "id": "907b81ae",
   "metadata": {},
   "source": [
    "## Question -1  Addition of Matrices"
   ]
  },
  {
   "cell_type": "code",
   "execution_count": 22,
   "id": "25131496",
   "metadata": {},
   "outputs": [
    {
     "name": "stdout",
     "output_type": "stream",
     "text": [
      "Enter rows and columns of first matrix : 2 3\n",
      "Enter 0th row and 0th column element: 1\n",
      "Enter 0th row and 1th column element: 1\n",
      "Enter 0th row and 2th column element: 1\n",
      "Enter 1th row and 0th column element: 2\n",
      "Enter 1th row and 1th column element: 2\n",
      "Enter 1th row and 2th column element: 2\n",
      "Enter rows and columns of second matrix : 2 3\n",
      "Enter 0th row and 0th column element: 3\n",
      "Enter 0th row and 1th column element: 3\n",
      "Enter 0th row and 2th column element: 3\n",
      "Enter 1th row and 0th column element: 4\n",
      "Enter 1th row and 1th column element: 4\n",
      "Enter 1th row and 2th column element: 4\n",
      "Result matrix is : \n",
      "[[4, 4, 4], [6, 6, 6]]\n"
     ]
    }
   ],
   "source": [
    "rows1,cols1=map(int,input(\"Enter rows and columns of first matrix : \").split(\" \"))\n",
    "mat1=matrix_input(rows1,cols1)\n",
    "rows2,cols2=map(int,input(\"Enter rows and columns of second matrix : \").split(\" \"))\n",
    "mat2=matrix_input(rows2,cols2)\n",
    "if rows1==rows2 and cols1==cols2:\n",
    "    res=[]\n",
    "    for i in range(rows1):\n",
    "        res2=[]\n",
    "        for j in range(cols1):\n",
    "            res_int=mat1[i][j]+mat2[i][j]\n",
    "            res2.append(res_int)\n",
    "        res.append(res2)\n",
    "    print(\"Result matrix is : \")\n",
    "    print(res)     \n",
    "else:\n",
    "    print(\"Entered matrices cannot be added\")"
   ]
  },
  {
   "cell_type": "markdown",
   "id": "c7f484b6",
   "metadata": {},
   "source": [
    "## Question-2 Multiplication of Matrices"
   ]
  },
  {
   "cell_type": "code",
   "execution_count": 29,
   "id": "9c71e903",
   "metadata": {},
   "outputs": [
    {
     "name": "stdout",
     "output_type": "stream",
     "text": [
      "Enter rows and columns of first matrix : 2 3\n",
      "Enter 0th row and 0th column element: 1\n",
      "Enter 0th row and 1th column element: -1\n",
      "Enter 0th row and 2th column element: 2\n",
      "Enter 1th row and 0th column element: 0\n",
      "Enter 1th row and 1th column element: 3\n",
      "Enter 1th row and 2th column element: 4\n",
      "Enter rows and columns of second matrix : 3 2\n",
      "Enter 0th row and 0th column element: 2\n",
      "Enter 0th row and 1th column element: 7\n",
      "Enter 1th row and 0th column element: -1\n",
      "Enter 1th row and 1th column element: 1\n",
      "Enter 2th row and 0th column element: 5\n",
      "Enter 2th row and 1th column element: -4\n",
      "[[13, -2], [17, -13]]\n"
     ]
    }
   ],
   "source": [
    "rows1,cols1=map(int,input(\"Enter rows and columns of first matrix : \").split(\" \"))\n",
    "mat1=matrix_input(rows1,cols1)\n",
    "rows2,cols2=map(int,input(\"Enter rows and columns of second matrix : \").split(\" \"))\n",
    "mat2=matrix_input(rows2,cols2)\n",
    "if cols1==rows2:\n",
    "    res=[]\n",
    "    for i in range(rows1):\n",
    "        res2=[]\n",
    "        for j in range(cols2):\n",
    "            sum_int=0\n",
    "            for k in range(cols1):\n",
    "                sum_int+=mat1[i][k]*mat2[k][j]\n",
    "            res2.append(sum_int) \n",
    "        res.append(res2)    \n",
    "else:\n",
    "    print(\"Entered matrices cannot be multiplied \")\n",
    "print(res)"
   ]
  },
  {
   "cell_type": "markdown",
   "id": "cc8bba2b",
   "metadata": {},
   "source": [
    "## Question-3 Transpose of matrix"
   ]
  },
  {
   "cell_type": "code",
   "execution_count": 32,
   "id": "5e71108f",
   "metadata": {},
   "outputs": [
    {
     "name": "stdout",
     "output_type": "stream",
     "text": [
      "Enter rows and columns of first matrix : 2 3\n",
      "Enter 0th row and 0th column element: 1\n",
      "Enter 0th row and 1th column element: 1\n",
      "Enter 0th row and 2th column element: 1\n",
      "Enter 1th row and 0th column element: 2\n",
      "Enter 1th row and 1th column element: 2\n",
      "Enter 1th row and 2th column element: 2\n",
      "Entered matrix is [[1, 1, 1], [2, 2, 2]]\n",
      "Transpose of entered matrix is [[1, 2], [1, 2], [1, 2]]\n"
     ]
    }
   ],
   "source": [
    "rows,cols=map(int,input(\"Enter rows and columns of first matrix : \").split(\" \"))\n",
    "mat=matrix_input(rows,cols)\n",
    "print(f\"Entered matrix is {mat}\")\n",
    "transpose=[]\n",
    "for i in range(cols):\n",
    "    temp=[]\n",
    "    for j in range(rows):\n",
    "        temp.append(mat[j][i])\n",
    "    transpose.append(temp)\n",
    "print(f\"Transpose of entered matrix is {transpose}\")"
   ]
  },
  {
   "cell_type": "markdown",
   "id": "2ff3d617",
   "metadata": {},
   "source": [
    "## Question-4  Sort words in Alphabetical order"
   ]
  },
  {
   "cell_type": "code",
   "execution_count": 9,
   "id": "6951f1bf",
   "metadata": {},
   "outputs": [
    {
     "name": "stdout",
     "output_type": "stream",
     "text": [
      "Enter all words with space in between : hello my name is Hemanth Bonala Abcd Efgh Ij KL \n",
      "Words after sorting in alphabetical order : \n",
      " abcd bonala efgh hello hemanth ij is kl my name "
     ]
    }
   ],
   "source": [
    "string=input(\"Enter all words with space in between : \")\n",
    "words=[]\n",
    "temp=string.split(\" \")\n",
    "for word in temp:\n",
    "    words.append(word.lower())\n",
    "words.sort()  \n",
    "print(\"Words after sorting in alphabetical order : \")\n",
    "for word in words:\n",
    "    print(word,end=\" \")"
   ]
  },
  {
   "cell_type": "markdown",
   "id": "7264b280",
   "metadata": {},
   "source": [
    "## Question-5 Removing punctuation\n",
    "    "
   ]
  },
  {
   "cell_type": "code",
   "execution_count": 12,
   "id": "c5df9dc4",
   "metadata": {},
   "outputs": [
    {
     "data": {
      "text/plain": [
       "122"
      ]
     },
     "execution_count": 12,
     "metadata": {},
     "output_type": "execute_result"
    }
   ],
   "source": [
    "ord('z')"
   ]
  },
  {
   "cell_type": "code",
   "execution_count": 16,
   "id": "2680a97f",
   "metadata": {},
   "outputs": [
    {
     "name": "stdout",
     "output_type": "stream",
     "text": [
      "Enter all words with space in between : Hemanth Bonala!@ is *my ,:name\n",
      "string after removing punctuations is : Hemanth Bonala is my name\n"
     ]
    }
   ],
   "source": [
    "string=input(\"Enter all words with space in between : \")\n",
    "res=\"\"\n",
    "for char in string:\n",
    "    if (ord(char.lower())>=97 and ord(char.lower())<=122) or char==\" \":\n",
    "        res+=char\n",
    "print(f\"string after removing punctuations is : {res}\")"
   ]
  },
  {
   "cell_type": "code",
   "execution_count": null,
   "id": "0c9bcc6e",
   "metadata": {},
   "outputs": [],
   "source": []
  },
  {
   "cell_type": "code",
   "execution_count": null,
   "id": "f12b953e",
   "metadata": {},
   "outputs": [],
   "source": []
  }
 ],
 "metadata": {
  "kernelspec": {
   "display_name": "Python 3 (ipykernel)",
   "language": "python",
   "name": "python3"
  },
  "language_info": {
   "codemirror_mode": {
    "name": "ipython",
    "version": 3
   },
   "file_extension": ".py",
   "mimetype": "text/x-python",
   "name": "python",
   "nbconvert_exporter": "python",
   "pygments_lexer": "ipython3",
   "version": "3.9.12"
  }
 },
 "nbformat": 4,
 "nbformat_minor": 5
}
